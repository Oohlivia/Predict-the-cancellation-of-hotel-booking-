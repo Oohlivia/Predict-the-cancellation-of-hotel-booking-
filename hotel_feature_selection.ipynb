{
 "cells": [
  {
   "cell_type": "markdown",
   "id": "c101e40b",
   "metadata": {},
   "source": [
    "# Feature selection "
   ]
  },
  {
   "cell_type": "markdown",
   "id": "7ba6f060",
   "metadata": {},
   "source": [
    "## 1. Correlation analysis"
   ]
  },
  {
   "cell_type": "code",
   "execution_count": 43,
   "id": "2d916dba",
   "metadata": {},
   "outputs": [],
   "source": [
    "import pandas as pd\n",
    "import numpy as np\n",
    "#import seaborn as sns\n",
    "#import matplotlib.pyplot as plt\n",
    "#import os"
   ]
  },
  {
   "cell_type": "code",
   "execution_count": 44,
   "id": "ff9e193a",
   "metadata": {},
   "outputs": [
    {
     "data": {
      "text/plain": [
       "'/Users/oliviawang/Documents/Hotel_booking_prediction_Python'"
      ]
     },
     "execution_count": 44,
     "metadata": {},
     "output_type": "execute_result"
    }
   ],
   "source": [
    "%pwd"
   ]
  },
  {
   "cell_type": "code",
   "execution_count": 49,
   "id": "addd2515",
   "metadata": {},
   "outputs": [],
   "source": [
    "%store -r cat_num"
   ]
  },
  {
   "cell_type": "code",
   "execution_count": 50,
   "id": "666efef6",
   "metadata": {},
   "outputs": [
    {
     "data": {
      "text/plain": [
       "Index(['hotel', 'arrival_date_month', 'children', 'meal', 'country',\n",
       "       'market_segment', 'distribution_channel', 'reserved_room_type',\n",
       "       'assigned_room_type', 'customer_type', 'reservation_status',\n",
       "       'reservation_status_date', 'weekend_or_weekday', 'is_canceled',\n",
       "       'lead_time', 'arrival_date_year', 'arrival_date_week_number',\n",
       "       'arrival_date_day_of_month', 'stays_in_weekend_nights',\n",
       "       'stays_in_week_nights', 'adults', 'babies', 'is_repeated_guest',\n",
       "       'previous_cancellations', 'previous_bookings_not_canceled',\n",
       "       'booking_changes', 'days_in_waiting_list', 'adr',\n",
       "       'required_car_parking_spaces', 'total_of_special_requests',\n",
       "       'deposit_given'],\n",
       "      dtype='object')"
      ]
     },
     "execution_count": 50,
     "metadata": {},
     "output_type": "execute_result"
    }
   ],
   "source": [
    "cat_num.columns"
   ]
  },
  {
   "cell_type": "markdown",
   "id": "15826b29",
   "metadata": {},
   "source": [
    "To investigate the distribution of the features when 'is_canceled' == 0 and 'is_canceled' == 1. The smaller the overlap, the better."
   ]
  },
  {
   "cell_type": "code",
   "execution_count": 51,
   "id": "1d0fa09a",
   "metadata": {
    "scrolled": false
   },
   "outputs": [
    {
     "data": {
      "text/plain": [
       "reservation_status                1.000000\n",
       "is_canceled                       1.000000\n",
       "reservation_status_date           0.488307\n",
       "deposit_given                     0.481507\n",
       "country                           0.357232\n",
       "lead_time                         0.320075\n",
       "market_segment                    0.267006\n",
       "assigned_room_type                0.201570\n",
       "distribution_channel              0.177167\n",
       "hotel                             0.137082\n",
       "customer_type                     0.136617\n",
       "previous_cancellations            0.110139\n",
       "adr                               0.081660\n",
       "weekend_or_weekday                0.073162\n",
       "reserved_room_type                0.072769\n",
       "arrival_date_month                0.069886\n",
       "adults                            0.058182\n",
       "days_in_waiting_list              0.054301\n",
       "meal                              0.050584\n",
       "children                          0.029749\n",
       "stays_in_week_nights              0.025542\n",
       "arrival_date_year                 0.016622\n",
       "arrival_date_week_number          0.008315\n",
       "stays_in_weekend_nights          -0.001323\n",
       "arrival_date_day_of_month        -0.005948\n",
       "babies                           -0.032569\n",
       "previous_bookings_not_canceled   -0.057365\n",
       "is_repeated_guest                -0.083745\n",
       "booking_changes                  -0.144832\n",
       "required_car_parking_spaces      -0.195701\n",
       "total_of_special_requests        -0.234877\n",
       "Name: is_canceled, dtype: float64"
      ]
     },
     "execution_count": 51,
     "metadata": {},
     "output_type": "execute_result"
    }
   ],
   "source": [
    "# Correlation Study\n",
    "corr = cat_num.corr()\n",
    "corr['is_canceled'].sort_values(ascending = False)"
   ]
  },
  {
   "cell_type": "markdown",
   "id": "8a3a219f",
   "metadata": {},
   "source": [
    "- 'reservation_status' has extremely high correlation with 'is_cancled'. \n",
    "- 'children', 'stays_in_week_nights', 'arrival_date_year', 'arrival_date_week_number', 'stays_in_weekend_nights', 'arrival_date_day_of_month' have very small correlations with 'is_canceled'"
   ]
  },
  {
   "cell_type": "code",
   "execution_count": 52,
   "id": "9f04c839",
   "metadata": {},
   "outputs": [],
   "source": [
    "features_to_drop = ['reservation_status', 'children', 'stays_in_week_nights', 'arrival_date_year', 'arrival_date_week_number', 'stays_in_weekend_nights', 'arrival_date_day_of_month']"
   ]
  },
  {
   "cell_type": "code",
   "execution_count": 53,
   "id": "14435334",
   "metadata": {},
   "outputs": [],
   "source": [
    "cat_num.drop(features_to_drop, axis = 1, inplace = True)"
   ]
  },
  {
   "cell_type": "code",
   "execution_count": 54,
   "id": "b96e9c1e",
   "metadata": {},
   "outputs": [
    {
     "data": {
      "text/plain": [
       "(119210, 24)"
      ]
     },
     "execution_count": 54,
     "metadata": {},
     "output_type": "execute_result"
    }
   ],
   "source": [
    "cat_num.shape"
   ]
  },
  {
   "cell_type": "code",
   "execution_count": 55,
   "id": "3dfa4cd0",
   "metadata": {},
   "outputs": [
    {
     "data": {
      "text/plain": [
       "Index(['hotel', 'arrival_date_month', 'meal', 'country', 'market_segment',\n",
       "       'distribution_channel', 'reserved_room_type', 'assigned_room_type',\n",
       "       'customer_type', 'reservation_status_date', 'weekend_or_weekday',\n",
       "       'is_canceled', 'lead_time', 'adults', 'babies', 'is_repeated_guest',\n",
       "       'previous_cancellations', 'previous_bookings_not_canceled',\n",
       "       'booking_changes', 'days_in_waiting_list', 'adr',\n",
       "       'required_car_parking_spaces', 'total_of_special_requests',\n",
       "       'deposit_given'],\n",
       "      dtype='object')"
      ]
     },
     "execution_count": 55,
     "metadata": {},
     "output_type": "execute_result"
    }
   ],
   "source": [
    "cat_num.columns"
   ]
  },
  {
   "cell_type": "markdown",
   "id": "eca33551",
   "metadata": {},
   "source": [
    "## 2. Find significant features using Lasso"
   ]
  },
  {
   "cell_type": "code",
   "execution_count": 56,
   "id": "9e4adbbe",
   "metadata": {},
   "outputs": [
    {
     "data": {
      "text/plain": [
       "hotel                             0\n",
       "arrival_date_month                0\n",
       "meal                              0\n",
       "country                           0\n",
       "market_segment                    0\n",
       "distribution_channel              0\n",
       "reserved_room_type                0\n",
       "assigned_room_type                0\n",
       "customer_type                     0\n",
       "reservation_status_date           0\n",
       "weekend_or_weekday                0\n",
       "is_canceled                       0\n",
       "lead_time                         0\n",
       "adults                            0\n",
       "babies                            0\n",
       "is_repeated_guest                 0\n",
       "previous_cancellations            0\n",
       "previous_bookings_not_canceled    0\n",
       "booking_changes                   0\n",
       "days_in_waiting_list              0\n",
       "adr                               1\n",
       "required_car_parking_spaces       0\n",
       "total_of_special_requests         0\n",
       "deposit_given                     0\n",
       "dtype: int64"
      ]
     },
     "execution_count": 56,
     "metadata": {},
     "output_type": "execute_result"
    }
   ],
   "source": [
    "cat_num.isnull().sum() # need to drop the missing value"
   ]
  },
  {
   "cell_type": "code",
   "execution_count": 57,
   "id": "dc639063",
   "metadata": {},
   "outputs": [],
   "source": [
    "cat_num.dropna(inplace = True)"
   ]
  },
  {
   "cell_type": "code",
   "execution_count": 58,
   "id": "51b30fc0",
   "metadata": {},
   "outputs": [],
   "source": [
    "predictors = cat_num.drop('is_canceled', axis = 1)\n",
    "response = cat_num['is_canceled']"
   ]
  },
  {
   "cell_type": "code",
   "execution_count": 59,
   "id": "40bda063",
   "metadata": {},
   "outputs": [],
   "source": [
    "from sklearn.linear_model import Lasso\n",
    "from sklearn.feature_selection import SelectFromModel"
   ]
  },
  {
   "cell_type": "code",
   "execution_count": 60,
   "id": "b9137151",
   "metadata": {},
   "outputs": [],
   "source": [
    "lasso_mod = Lasso(alpha = 0.005) # arbitrary alpha value"
   ]
  },
  {
   "cell_type": "code",
   "execution_count": 63,
   "id": "7f247f20",
   "metadata": {},
   "outputs": [
    {
     "data": {
      "text/plain": [
       "array([False, False, False,  True, False, False, False, False, False,\n",
       "        True, False,  True,  True, False, False,  True,  True,  True,\n",
       "        True,  True,  True,  True,  True])"
      ]
     },
     "execution_count": 63,
     "metadata": {},
     "output_type": "execute_result"
    }
   ],
   "source": [
    "feature_sel_mod = SelectFromModel(lasso_mod)\n",
    "feature_sel_mod.fit(predictors, response)\n",
    "feature_sel_mod.get_support() # False means the feature is not selected "
   ]
  },
  {
   "cell_type": "code",
   "execution_count": 64,
   "id": "df379238",
   "metadata": {},
   "outputs": [],
   "source": [
    "xcols = predictors.columns"
   ]
  },
  {
   "cell_type": "code",
   "execution_count": 65,
   "id": "4c3a1332",
   "metadata": {},
   "outputs": [
    {
     "data": {
      "text/plain": [
       "Index(['country', 'reservation_status_date', 'lead_time', 'adults',\n",
       "       'previous_cancellations', 'previous_bookings_not_canceled',\n",
       "       'booking_changes', 'days_in_waiting_list', 'adr',\n",
       "       'required_car_parking_spaces', 'total_of_special_requests',\n",
       "       'deposit_given'],\n",
       "      dtype='object')"
      ]
     },
     "execution_count": 65,
     "metadata": {},
     "output_type": "execute_result"
    }
   ],
   "source": [
    "selected_features = xcols[feature_sel_mod.get_support()] \n",
    "selected_features"
   ]
  },
  {
   "cell_type": "code",
   "execution_count": 68,
   "id": "c0632e86",
   "metadata": {},
   "outputs": [
    {
     "data": {
      "text/plain": [
       "Index(['country', 'reservation_status_date', 'lead_time', 'adults',\n",
       "       'previous_cancellations', 'previous_bookings_not_canceled',\n",
       "       'booking_changes', 'days_in_waiting_list', 'adr',\n",
       "       'required_car_parking_spaces', 'total_of_special_requests',\n",
       "       'deposit_given'],\n",
       "      dtype='object')"
      ]
     },
     "execution_count": 68,
     "metadata": {},
     "output_type": "execute_result"
    }
   ],
   "source": [
    "predictors = predictors[selected_features]\n",
    "predictors.columns"
   ]
  },
  {
   "cell_type": "code",
   "execution_count": 69,
   "id": "72a873ad",
   "metadata": {},
   "outputs": [
    {
     "name": "stdout",
     "output_type": "stream",
     "text": [
      "Stored 'predictors' (DataFrame)\n"
     ]
    }
   ],
   "source": [
    "%store predictors"
   ]
  },
  {
   "cell_type": "code",
   "execution_count": 70,
   "id": "d0cbdb14",
   "metadata": {},
   "outputs": [
    {
     "name": "stdout",
     "output_type": "stream",
     "text": [
      "Stored 'response' (Series)\n"
     ]
    }
   ],
   "source": [
    "%store response"
   ]
  },
  {
   "cell_type": "code",
   "execution_count": 71,
   "id": "2d4f2e23",
   "metadata": {},
   "outputs": [
    {
     "data": {
      "text/plain": [
       "count    119209.000000\n",
       "mean          0.370769\n",
       "std           0.483013\n",
       "min           0.000000\n",
       "25%           0.000000\n",
       "50%           0.000000\n",
       "75%           1.000000\n",
       "max           1.000000\n",
       "Name: is_canceled, dtype: float64"
      ]
     },
     "execution_count": 71,
     "metadata": {},
     "output_type": "execute_result"
    }
   ],
   "source": [
    "response.describe()"
   ]
  }
 ],
 "metadata": {
  "kernelspec": {
   "display_name": "Python 3 (ipykernel)",
   "language": "python",
   "name": "python3"
  },
  "language_info": {
   "codemirror_mode": {
    "name": "ipython",
    "version": 3
   },
   "file_extension": ".py",
   "mimetype": "text/x-python",
   "name": "python",
   "nbconvert_exporter": "python",
   "pygments_lexer": "ipython3",
   "version": "3.9.12"
  }
 },
 "nbformat": 4,
 "nbformat_minor": 5
}
