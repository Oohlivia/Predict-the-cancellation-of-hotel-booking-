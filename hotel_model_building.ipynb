{
 "cells": [
  {
   "cell_type": "code",
   "execution_count": 23,
   "id": "c923d56b",
   "metadata": {},
   "outputs": [],
   "source": [
    "import pandas as pd\n",
    "import numpy as np\n",
    "import matplotlib.pyplot as plt\n",
    "import warnings"
   ]
  },
  {
   "cell_type": "code",
   "execution_count": 24,
   "id": "8951d58e",
   "metadata": {},
   "outputs": [],
   "source": [
    "from warnings import filterwarnings\n",
    "filterwarnings('ignore')"
   ]
  },
  {
   "cell_type": "code",
   "execution_count": 25,
   "id": "5fad803f",
   "metadata": {},
   "outputs": [
    {
     "data": {
      "text/plain": [
       "'/Users/oliviawang/Documents/Hotel_booking_prediction_Python'"
      ]
     },
     "execution_count": 25,
     "metadata": {},
     "output_type": "execute_result"
    }
   ],
   "source": [
    "%pwd"
   ]
  },
  {
   "cell_type": "code",
   "execution_count": 26,
   "id": "fc15c35d",
   "metadata": {},
   "outputs": [],
   "source": [
    "%store -r predictors\n",
    "%store -r response"
   ]
  },
  {
   "cell_type": "code",
   "execution_count": 27,
   "id": "7f917e56",
   "metadata": {},
   "outputs": [
    {
     "data": {
      "text/plain": [
       "Index(['country', 'reservation_status_date', 'lead_time', 'adults',\n",
       "       'previous_cancellations', 'previous_bookings_not_canceled',\n",
       "       'booking_changes', 'days_in_waiting_list', 'adr',\n",
       "       'required_car_parking_spaces', 'total_of_special_requests',\n",
       "       'deposit_given'],\n",
       "      dtype='object')"
      ]
     },
     "execution_count": 27,
     "metadata": {},
     "output_type": "execute_result"
    }
   ],
   "source": [
    "predictors.columns"
   ]
  },
  {
   "cell_type": "code",
   "execution_count": 28,
   "id": "7781f84d",
   "metadata": {},
   "outputs": [
    {
     "data": {
      "text/plain": [
       "0         0\n",
       "1         0\n",
       "2         1\n",
       "3         0\n",
       "4         1\n",
       "         ..\n",
       "119205    0\n",
       "119206    0\n",
       "119207    0\n",
       "119208    0\n",
       "119209    0\n",
       "Name: is_canceled, Length: 119209, dtype: int64"
      ]
     },
     "execution_count": 28,
     "metadata": {},
     "output_type": "execute_result"
    }
   ],
   "source": [
    "response"
   ]
  },
  {
   "cell_type": "markdown",
   "id": "e59c827d",
   "metadata": {},
   "source": [
    "## 1. Split the data into training and testing data"
   ]
  },
  {
   "cell_type": "code",
   "execution_count": 29,
   "id": "248e4f0b",
   "metadata": {},
   "outputs": [],
   "source": [
    "from sklearn.model_selection import train_test_split"
   ]
  },
  {
   "cell_type": "code",
   "execution_count": 30,
   "id": "93d6c388",
   "metadata": {},
   "outputs": [],
   "source": [
    "X_train, X_test, y_train, y_test = train_test_split(predictors, response, test_size = 0.25)"
   ]
  },
  {
   "cell_type": "code",
   "execution_count": 31,
   "id": "6ce3c472",
   "metadata": {},
   "outputs": [
    {
     "data": {
      "text/plain": [
       "(89406, 12)"
      ]
     },
     "execution_count": 31,
     "metadata": {},
     "output_type": "execute_result"
    }
   ],
   "source": [
    "X_train.shape"
   ]
  },
  {
   "cell_type": "code",
   "execution_count": 32,
   "id": "209e9380",
   "metadata": {},
   "outputs": [
    {
     "name": "stdout",
     "output_type": "stream",
     "text": [
      "Stored 'X_train' (DataFrame)\n",
      "Stored 'X_test' (DataFrame)\n",
      "Stored 'y_train' (Series)\n",
      "Stored 'y_test' (Series)\n"
     ]
    }
   ],
   "source": [
    "%store X_train\n",
    "%store X_test\n",
    "%store y_train\n",
    "%store y_test"
   ]
  },
  {
   "cell_type": "markdown",
   "id": "c3a96da6",
   "metadata": {},
   "source": [
    "## 2. Logistic Regression"
   ]
  },
  {
   "cell_type": "code",
   "execution_count": 98,
   "id": "8211b77f",
   "metadata": {},
   "outputs": [],
   "source": [
    "from sklearn.linear_model import LogisticRegression"
   ]
  },
  {
   "cell_type": "code",
   "execution_count": 99,
   "id": "27cff3f4",
   "metadata": {},
   "outputs": [
    {
     "data": {
      "text/plain": [
       "LogisticRegression()"
      ]
     },
     "execution_count": 99,
     "metadata": {},
     "output_type": "execute_result"
    }
   ],
   "source": [
    "logreg = LogisticRegression()\n",
    "logreg.fit(X_train, y_train)"
   ]
  },
  {
   "cell_type": "code",
   "execution_count": 100,
   "id": "7a849865",
   "metadata": {},
   "outputs": [
    {
     "data": {
      "text/plain": [
       "array([1, 0, 1, ..., 0, 0, 0])"
      ]
     },
     "execution_count": 100,
     "metadata": {},
     "output_type": "execute_result"
    }
   ],
   "source": [
    "log_pred = logreg.predict(X_test)\n",
    "log_pred"
   ]
  },
  {
   "cell_type": "code",
   "execution_count": 101,
   "id": "7ea2cf62",
   "metadata": {},
   "outputs": [],
   "source": [
    "from sklearn.metrics import confusion_matrix"
   ]
  },
  {
   "cell_type": "code",
   "execution_count": 102,
   "id": "609a5652",
   "metadata": {},
   "outputs": [
    {
     "data": {
      "text/plain": [
       "array([[17325,  1390],\n",
       "       [ 3979,  7109]])"
      ]
     },
     "execution_count": 102,
     "metadata": {},
     "output_type": "execute_result"
    }
   ],
   "source": [
    "confusion_matrix(y_test, log_pred)"
   ]
  },
  {
   "cell_type": "code",
   "execution_count": 103,
   "id": "7d13923c",
   "metadata": {},
   "outputs": [],
   "source": [
    "from sklearn.metrics import accuracy_score"
   ]
  },
  {
   "cell_type": "code",
   "execution_count": 104,
   "id": "d9df1fd8",
   "metadata": {},
   "outputs": [
    {
     "data": {
      "text/plain": [
       "0.819850350635842"
      ]
     },
     "execution_count": 104,
     "metadata": {},
     "output_type": "execute_result"
    }
   ],
   "source": [
    "accuracy_score(y_test, log_pred)"
   ]
  },
  {
   "cell_type": "markdown",
   "id": "c95dd08b",
   "metadata": {},
   "source": [
    "### 2.1 Cross-Validation - Logistic Regresison"
   ]
  },
  {
   "cell_type": "code",
   "execution_count": 105,
   "id": "b604e52d",
   "metadata": {},
   "outputs": [],
   "source": [
    "from sklearn.model_selection import cross_val_score"
   ]
  },
  {
   "cell_type": "code",
   "execution_count": 106,
   "id": "def02bda",
   "metadata": {},
   "outputs": [],
   "source": [
    "logreg_score = cross_val_score(logreg, X_train, y_train, cv = 10)"
   ]
  },
  {
   "cell_type": "code",
   "execution_count": 107,
   "id": "ce3e7872",
   "metadata": {},
   "outputs": [
    {
     "name": "stdout",
     "output_type": "stream",
     "text": [
      "The average accuracy of logistics regression model after cross-validation is 0.8240834145893524\n"
     ]
    }
   ],
   "source": [
    "print('The average accuracy of logistics regression model after cross-validation is',logreg_score.mean())"
   ]
  },
  {
   "cell_type": "markdown",
   "id": "74a9e243",
   "metadata": {},
   "source": [
    "## 3. Decision tree model with hyperparameters tuning"
   ]
  },
  {
   "cell_type": "code",
   "execution_count": 85,
   "id": "a1e0fc5b",
   "metadata": {},
   "outputs": [],
   "source": [
    "from sklearn.tree import DecisionTreeClassifier\n",
    "from sklearn.model_selection import GridSearchCV"
   ]
  },
  {
   "cell_type": "code",
   "execution_count": 86,
   "id": "3cf63bf9",
   "metadata": {},
   "outputs": [],
   "source": [
    "dt = DecisionTreeClassifier(random_state = 42)"
   ]
  },
  {
   "cell_type": "code",
   "execution_count": 87,
   "id": "2abdd523",
   "metadata": {},
   "outputs": [],
   "source": [
    "dt_params = {\n",
    "    'max_depth': [2, 3, 5, 10, 20],\n",
    "    'min_samples_leaf': [5, 10, 20, 50, 100],\n",
    "    'criterion': ['gini', 'entropy']\n",
    "}"
   ]
  },
  {
   "cell_type": "code",
   "execution_count": 88,
   "id": "f09a114c",
   "metadata": {},
   "outputs": [],
   "source": [
    "dt_grid_search = GridSearchCV(estimator = dt,\n",
    "                           param_grid = dt_params,\n",
    "                           cv = 10, n_jobs = -1, verbose = 1, scoring = 'accuracy')"
   ]
  },
  {
   "cell_type": "code",
   "execution_count": 89,
   "id": "35d275c6",
   "metadata": {},
   "outputs": [
    {
     "name": "stdout",
     "output_type": "stream",
     "text": [
      "Fitting 10 folds for each of 50 candidates, totalling 500 fits\n"
     ]
    },
    {
     "data": {
      "text/plain": [
       "GridSearchCV(cv=10, estimator=DecisionTreeClassifier(random_state=42),\n",
       "             n_jobs=-1,\n",
       "             param_grid={'criterion': ['gini', 'entropy'],\n",
       "                         'max_depth': [2, 3, 5, 10, 20],\n",
       "                         'min_samples_leaf': [5, 10, 20, 50, 100]},\n",
       "             scoring='accuracy', verbose=1)"
      ]
     },
     "execution_count": 89,
     "metadata": {},
     "output_type": "execute_result"
    }
   ],
   "source": [
    "dt_grid_search.fit(X_train, y_train)"
   ]
  },
  {
   "cell_type": "code",
   "execution_count": 90,
   "id": "b1a8782c",
   "metadata": {},
   "outputs": [
    {
     "data": {
      "text/plain": [
       "DecisionTreeClassifier(max_depth=20, min_samples_leaf=10, random_state=42)"
      ]
     },
     "execution_count": 90,
     "metadata": {},
     "output_type": "execute_result"
    }
   ],
   "source": [
    "dt_best = dt_grid_search.best_estimator_\n",
    "dt_best "
   ]
  },
  {
   "cell_type": "markdown",
   "id": "1b20bc08",
   "metadata": {},
   "source": [
    "DecisionTreeClassifier(criterion='entropy', max_depth=20, min_samples_leaf=10,\n",
    "                       random_state=42)"
   ]
  },
  {
   "cell_type": "markdown",
   "id": "6f198ebb",
   "metadata": {},
   "source": [
    "## 4. KNN model with hyperparameter tuning"
   ]
  },
  {
   "cell_type": "code",
   "execution_count": 38,
   "id": "deefca76",
   "metadata": {},
   "outputs": [],
   "source": [
    "from sklearn.neighbors import KNeighborsClassifier"
   ]
  },
  {
   "cell_type": "code",
   "execution_count": 39,
   "id": "ddc7013d",
   "metadata": {},
   "outputs": [],
   "source": [
    "knn = KNeighborsClassifier()"
   ]
  },
  {
   "cell_type": "code",
   "execution_count": 40,
   "id": "c19258e0",
   "metadata": {},
   "outputs": [],
   "source": [
    "knn_params = {'n_neighbors':[5,6,7,8,9,10],\n",
    "              'leaf_size':[1,2,3,5],\n",
    "              'weights':['uniform', 'distance'],\n",
    "              'algorithm':['auto', 'ball_tree','kd_tree','brute'],\n",
    "              'n_jobs':[-1]}"
   ]
  },
  {
   "cell_type": "code",
   "execution_count": 43,
   "id": "cb8956e1",
   "metadata": {},
   "outputs": [],
   "source": [
    "from sklearn.experimental import enable_halving_search_cv \n",
    "from sklearn.model_selection import HalvingGridSearchCV"
   ]
  },
  {
   "cell_type": "code",
   "execution_count": 44,
   "id": "e038a460",
   "metadata": {},
   "outputs": [],
   "source": [
    "knn_grid_search = HalvingGridSearchCV(estimator = knn,\n",
    "                           param_grid = knn_params,\n",
    "                           cv = 5, n_jobs = -1, verbose = 1, scoring = 'accuracy')"
   ]
  },
  {
   "cell_type": "code",
   "execution_count": 45,
   "id": "710f6ad7",
   "metadata": {},
   "outputs": [
    {
     "name": "stdout",
     "output_type": "stream",
     "text": [
      "n_iterations: 5\n",
      "n_required_iterations: 5\n",
      "n_possible_iterations: 5\n",
      "min_resources_: 1103\n",
      "max_resources_: 89406\n",
      "aggressive_elimination: False\n",
      "factor: 3\n",
      "----------\n",
      "iter: 0\n",
      "n_candidates: 192\n",
      "n_resources: 1103\n",
      "Fitting 5 folds for each of 192 candidates, totalling 960 fits\n",
      "----------\n",
      "iter: 1\n",
      "n_candidates: 64\n",
      "n_resources: 3309\n",
      "Fitting 5 folds for each of 64 candidates, totalling 320 fits\n",
      "----------\n",
      "iter: 2\n",
      "n_candidates: 22\n",
      "n_resources: 9927\n",
      "Fitting 5 folds for each of 22 candidates, totalling 110 fits\n",
      "----------\n",
      "iter: 3\n",
      "n_candidates: 8\n",
      "n_resources: 29781\n",
      "Fitting 5 folds for each of 8 candidates, totalling 40 fits\n",
      "----------\n",
      "iter: 4\n",
      "n_candidates: 3\n",
      "n_resources: 89343\n",
      "Fitting 5 folds for each of 3 candidates, totalling 15 fits\n"
     ]
    },
    {
     "data": {
      "text/plain": [
       "HalvingGridSearchCV(estimator=KNeighborsClassifier(), n_jobs=-1,\n",
       "                    param_grid={'algorithm': ['auto', 'ball_tree', 'kd_tree',\n",
       "                                              'brute'],\n",
       "                                'leaf_size': [1, 2, 3, 5], 'n_jobs': [-1],\n",
       "                                'n_neighbors': [5, 6, 7, 8, 9, 10],\n",
       "                                'weights': ['uniform', 'distance']},\n",
       "                    scoring='accuracy', verbose=1)"
      ]
     },
     "execution_count": 45,
     "metadata": {},
     "output_type": "execute_result"
    }
   ],
   "source": [
    "knn_grid_search.fit(X_train, y_train)"
   ]
  },
  {
   "cell_type": "code",
   "execution_count": 46,
   "id": "76652343",
   "metadata": {},
   "outputs": [
    {
     "data": {
      "text/plain": [
       "KNeighborsClassifier(leaf_size=1, n_jobs=-1, n_neighbors=10, weights='distance')"
      ]
     },
     "execution_count": 46,
     "metadata": {},
     "output_type": "execute_result"
    }
   ],
   "source": [
    "knn_best = knn_grid_search.best_estimator_\n",
    "knn_best "
   ]
  },
  {
   "cell_type": "markdown",
   "id": "8162e6e7",
   "metadata": {},
   "source": [
    "KNeighborsClassifier(leaf_size=1, n_jobs=-1, n_neighbors=10, weights='distance')"
   ]
  },
  {
   "cell_type": "markdown",
   "id": "166a40cc",
   "metadata": {},
   "source": [
    "## 5. Support vector machine model with hyperparameters tuning"
   ]
  },
  {
   "cell_type": "code",
   "execution_count": 120,
   "id": "81297cf9",
   "metadata": {},
   "outputs": [],
   "source": [
    "from sklearn.svm import SVC"
   ]
  },
  {
   "cell_type": "code",
   "execution_count": 121,
   "id": "15a9c450",
   "metadata": {},
   "outputs": [],
   "source": [
    "svm = SVC()"
   ]
  },
  {
   "cell_type": "code",
   "execution_count": 123,
   "id": "d1e4bf15",
   "metadata": {},
   "outputs": [],
   "source": [
    "svm_params = {'C': [0.1, 1, 10, 100, 1000], \n",
    "            'gamma': [1, 0.1, 0.01, 0.001, 0.0001],\n",
    "            'kernel': ['rbf','poly','sigmoid','linear']} "
   ]
  },
  {
   "cell_type": "code",
   "execution_count": 51,
   "id": "e2ef92aa",
   "metadata": {},
   "outputs": [],
   "source": [
    "from sklearn.experimental import enable_halving_search_cv \n",
    "from sklearn.model_selection import HalvingGridSearchCV"
   ]
  },
  {
   "cell_type": "code",
   "execution_count": 124,
   "id": "545d598f",
   "metadata": {},
   "outputs": [],
   "source": [
    "svm_grid_search = HalvingGridSearchCV(estimator = svm,\n",
    "                           param_grid = svm_params,\n",
    "                           cv = 5, n_jobs = -1, verbose = 1, scoring = 'accuracy')"
   ]
  },
  {
   "cell_type": "code",
   "execution_count": null,
   "id": "fae89970",
   "metadata": {},
   "outputs": [
    {
     "name": "stdout",
     "output_type": "stream",
     "text": [
      "n_iterations: 5\n",
      "n_required_iterations: 5\n",
      "n_possible_iterations: 5\n",
      "min_resources_: 1103\n",
      "max_resources_: 89406\n",
      "aggressive_elimination: False\n",
      "factor: 3\n",
      "----------\n",
      "iter: 0\n",
      "n_candidates: 100\n",
      "n_resources: 1103\n",
      "Fitting 5 folds for each of 100 candidates, totalling 500 fits\n",
      "----------\n",
      "iter: 1\n",
      "n_candidates: 34\n",
      "n_resources: 3309\n",
      "Fitting 5 folds for each of 34 candidates, totalling 170 fits\n"
     ]
    }
   ],
   "source": [
    "svm_grid_search.fit(X_train, y_train)"
   ]
  },
  {
   "cell_type": "code",
   "execution_count": 57,
   "id": "2e3cd001",
   "metadata": {},
   "outputs": [
    {
     "data": {
      "text/plain": [
       "SVC(C=10, gamma=1)"
      ]
     },
     "execution_count": 57,
     "metadata": {},
     "output_type": "execute_result"
    }
   ],
   "source": [
    "svm_best = svm_grid_search.best_estimator_\n",
    "svm_best "
   ]
  },
  {
   "cell_type": "markdown",
   "id": "4eff32ec",
   "metadata": {},
   "source": [
    "SVC(C=10, gamma=1)"
   ]
  },
  {
   "cell_type": "markdown",
   "id": "5d27ff4a",
   "metadata": {},
   "source": [
    "## 6. Random forest model with hyperparameters tuning"
   ]
  },
  {
   "cell_type": "code",
   "execution_count": 60,
   "id": "55049e94",
   "metadata": {},
   "outputs": [],
   "source": [
    "from sklearn.ensemble import RandomForestClassifier\n",
    "rf = RandomForestClassifier()"
   ]
  },
  {
   "cell_type": "code",
   "execution_count": 61,
   "id": "20d9ff24",
   "metadata": {},
   "outputs": [],
   "source": [
    "rf_params = {\n",
    "    'n_estimators': [5,20,50,100],\n",
    "    'max_features': ['auto', 'sqrt'],\n",
    "    'max_depth': [int(x) for x in np.linspace(10, 120, num = 12)],\n",
    "    'min_samples_split': [2, 6, 10],\n",
    "    'min_samples_leaf': [1, 3, 4],\n",
    "    'bootstrap': [True, False]}"
   ]
  },
  {
   "cell_type": "code",
   "execution_count": 62,
   "id": "69f63e7d",
   "metadata": {},
   "outputs": [],
   "source": [
    "from sklearn.experimental import enable_halving_search_cv \n",
    "from sklearn.model_selection import HalvingGridSearchCV"
   ]
  },
  {
   "cell_type": "code",
   "execution_count": 63,
   "id": "f8dbc2ce",
   "metadata": {},
   "outputs": [],
   "source": [
    "rf_grid_search = HalvingGridSearchCV(estimator = rf,\n",
    "                           param_grid = rf_params,\n",
    "                           cv = 5, n_jobs = -1, verbose = 1, scoring = 'accuracy')"
   ]
  },
  {
   "cell_type": "code",
   "execution_count": 64,
   "id": "e5082048",
   "metadata": {},
   "outputs": [
    {
     "name": "stdout",
     "output_type": "stream",
     "text": [
      "n_iterations: 7\n",
      "n_required_iterations: 7\n",
      "n_possible_iterations: 7\n",
      "min_resources_: 122\n",
      "max_resources_: 89406\n",
      "aggressive_elimination: False\n",
      "factor: 3\n",
      "----------\n",
      "iter: 0\n",
      "n_candidates: 1728\n",
      "n_resources: 122\n",
      "Fitting 5 folds for each of 1728 candidates, totalling 8640 fits\n",
      "----------\n",
      "iter: 1\n",
      "n_candidates: 576\n",
      "n_resources: 366\n",
      "Fitting 5 folds for each of 576 candidates, totalling 2880 fits\n",
      "----------\n",
      "iter: 2\n",
      "n_candidates: 192\n",
      "n_resources: 1098\n",
      "Fitting 5 folds for each of 192 candidates, totalling 960 fits\n",
      "----------\n",
      "iter: 3\n",
      "n_candidates: 64\n",
      "n_resources: 3294\n",
      "Fitting 5 folds for each of 64 candidates, totalling 320 fits\n",
      "----------\n",
      "iter: 4\n",
      "n_candidates: 22\n",
      "n_resources: 9882\n",
      "Fitting 5 folds for each of 22 candidates, totalling 110 fits\n",
      "----------\n",
      "iter: 5\n",
      "n_candidates: 8\n",
      "n_resources: 29646\n",
      "Fitting 5 folds for each of 8 candidates, totalling 40 fits\n",
      "----------\n",
      "iter: 6\n",
      "n_candidates: 3\n",
      "n_resources: 88938\n",
      "Fitting 5 folds for each of 3 candidates, totalling 15 fits\n"
     ]
    },
    {
     "data": {
      "text/plain": [
       "HalvingGridSearchCV(estimator=RandomForestClassifier(), n_jobs=-1,\n",
       "                    param_grid={'bootstrap': [True, False],\n",
       "                                'max_depth': [10, 20, 30, 40, 50, 60, 70, 80,\n",
       "                                              90, 100, 110, 120],\n",
       "                                'max_features': ['auto', 'sqrt'],\n",
       "                                'min_samples_leaf': [1, 3, 4],\n",
       "                                'min_samples_split': [2, 6, 10],\n",
       "                                'n_estimators': [5, 20, 50, 100]},\n",
       "                    scoring='accuracy', verbose=1)"
      ]
     },
     "execution_count": 64,
     "metadata": {},
     "output_type": "execute_result"
    }
   ],
   "source": [
    "rf_grid_search.fit(X_train, y_train)"
   ]
  },
  {
   "cell_type": "code",
   "execution_count": 65,
   "id": "369b8265",
   "metadata": {},
   "outputs": [
    {
     "data": {
      "text/plain": [
       "RandomForestClassifier(max_depth=110, max_features='sqrt', min_samples_split=6)"
      ]
     },
     "execution_count": 65,
     "metadata": {},
     "output_type": "execute_result"
    }
   ],
   "source": [
    "rf_best = rf_grid_search.best_estimator_\n",
    "rf_best "
   ]
  },
  {
   "cell_type": "markdown",
   "id": "03c9f93e",
   "metadata": {},
   "source": [
    "## 7. Model evaluation"
   ]
  },
  {
   "cell_type": "code",
   "execution_count": 67,
   "id": "7a53072b",
   "metadata": {},
   "outputs": [],
   "source": [
    "def evaluate_model(model):\n",
    "    print(\"Train Accuracy :\", accuracy_score(y_train, model.predict(X_train)))\n",
    "    print(\"Train Confusion Matrix:\")\n",
    "    print(confusion_matrix(y_train, model.predict(X_train)))\n",
    "    print(\"-\"*40)\n",
    "    print(\"Test Accuracy :\", accuracy_score(y_test, model.predict(X_test)))\n",
    "    print(\"Test Confusion Matrix:\")\n",
    "    print(confusion_matrix(y_test, model.predict(X_test)))"
   ]
  },
  {
   "cell_type": "code",
   "execution_count": 91,
   "id": "a84089d9",
   "metadata": {},
   "outputs": [
    {
     "name": "stdout",
     "output_type": "stream",
     "text": [
      "Train Accuracy : 0.8879829094244234\n",
      "Train Confusion Matrix:\n",
      "[[52820  3475]\n",
      " [ 6540 26571]]\n",
      "----------------------------------------\n",
      "Test Accuracy : 0.8419622185686004\n",
      "Test Confusion Matrix:\n",
      "[[16901  1814]\n",
      " [ 2896  8192]]\n"
     ]
    }
   ],
   "source": [
    "evaluate_model(dt_best)"
   ]
  },
  {
   "cell_type": "code",
   "execution_count": 93,
   "id": "6ca8fccd",
   "metadata": {},
   "outputs": [
    {
     "name": "stdout",
     "output_type": "stream",
     "text": [
      "Train Accuracy : 0.9998434109567591\n",
      "Train Confusion Matrix:\n",
      "[[56292     3]\n",
      " [   11 33100]]\n",
      "----------------------------------------\n",
      "Test Accuracy : 0.8620273126866422\n",
      "Test Confusion Matrix:\n",
      "[[17326  1389]\n",
      " [ 2723  8365]]\n"
     ]
    }
   ],
   "source": [
    "evaluate_model(knn_best)"
   ]
  },
  {
   "cell_type": "code",
   "execution_count": 94,
   "id": "d8806a51",
   "metadata": {},
   "outputs": [
    {
     "name": "stdout",
     "output_type": "stream",
     "text": [
      "Train Accuracy : 0.8551998747287654\n",
      "Train Confusion Matrix:\n",
      "[[52779  3516]\n",
      " [ 9430 23681]]\n",
      "----------------------------------------\n",
      "Test Accuracy : 0.8432372579941617\n",
      "Test Confusion Matrix:\n",
      "[[17376  1339]\n",
      " [ 3333  7755]]\n"
     ]
    }
   ],
   "source": [
    "evaluate_model(svm_best)"
   ]
  },
  {
   "cell_type": "code",
   "execution_count": 95,
   "id": "7e2a4de0",
   "metadata": {},
   "outputs": [
    {
     "name": "stdout",
     "output_type": "stream",
     "text": [
      "Train Accuracy : 0.9771715544818022\n",
      "Train Confusion Matrix:\n",
      "[[56028   267]\n",
      " [ 1774 31337]]\n",
      "----------------------------------------\n",
      "Test Accuracy : 0.8794081132771868\n",
      "Test Confusion Matrix:\n",
      "[[17638  1077]\n",
      " [ 2517  8571]]\n"
     ]
    }
   ],
   "source": [
    "evaluate_model(rf_best)"
   ]
  },
  {
   "cell_type": "markdown",
   "id": "ef034fb6",
   "metadata": {},
   "source": [
    "## 8. Result"
   ]
  },
  {
   "cell_type": "code",
   "execution_count": 109,
   "id": "9abc39a4",
   "metadata": {},
   "outputs": [],
   "source": [
    "result = {'model': ['logistics regression', 'decision tree', 'k-nearest neighbors', 'support machine vector', 'random forest'],\n",
    "          'accuracy': [0.824, 0.842, 0.862, 0.843, 0.879]}"
   ]
  },
  {
   "cell_type": "code",
   "execution_count": 119,
   "id": "3d81b4d5",
   "metadata": {},
   "outputs": [
    {
     "data": {
      "text/html": [
       "<div>\n",
       "<style scoped>\n",
       "    .dataframe tbody tr th:only-of-type {\n",
       "        vertical-align: middle;\n",
       "    }\n",
       "\n",
       "    .dataframe tbody tr th {\n",
       "        vertical-align: top;\n",
       "    }\n",
       "\n",
       "    .dataframe thead th {\n",
       "        text-align: right;\n",
       "    }\n",
       "</style>\n",
       "<table border=\"1\" class=\"dataframe\">\n",
       "  <thead>\n",
       "    <tr style=\"text-align: right;\">\n",
       "      <th></th>\n",
       "      <th>model</th>\n",
       "      <th>accuracy</th>\n",
       "    </tr>\n",
       "  </thead>\n",
       "  <tbody>\n",
       "    <tr>\n",
       "      <th>4</th>\n",
       "      <td>random forest</td>\n",
       "      <td>0.879</td>\n",
       "    </tr>\n",
       "    <tr>\n",
       "      <th>2</th>\n",
       "      <td>k-nearest neighbors</td>\n",
       "      <td>0.862</td>\n",
       "    </tr>\n",
       "    <tr>\n",
       "      <th>3</th>\n",
       "      <td>support machine vector</td>\n",
       "      <td>0.843</td>\n",
       "    </tr>\n",
       "    <tr>\n",
       "      <th>1</th>\n",
       "      <td>decision tree</td>\n",
       "      <td>0.842</td>\n",
       "    </tr>\n",
       "    <tr>\n",
       "      <th>0</th>\n",
       "      <td>logistics regression</td>\n",
       "      <td>0.824</td>\n",
       "    </tr>\n",
       "  </tbody>\n",
       "</table>\n",
       "</div>"
      ],
      "text/plain": [
       "                    model  accuracy\n",
       "4           random forest     0.879\n",
       "2     k-nearest neighbors     0.862\n",
       "3  support machine vector     0.843\n",
       "1           decision tree     0.842\n",
       "0    logistics regression     0.824"
      ]
     },
     "execution_count": 119,
     "metadata": {},
     "output_type": "execute_result"
    }
   ],
   "source": [
    "result_df = pd.DataFrame(result)\n",
    "result_df.sort_values(by = ['accuracy'], ascending = False)"
   ]
  },
  {
   "cell_type": "markdown",
   "id": "2d97029c",
   "metadata": {},
   "source": [
    "Random forest model with 'max_depth'=110, 'max_features'='sqrt', 'min_samples_split'=6 performs the best"
   ]
  },
  {
   "cell_type": "code",
   "execution_count": null,
   "id": "dc58aa52",
   "metadata": {},
   "outputs": [],
   "source": []
  }
 ],
 "metadata": {
  "kernelspec": {
   "display_name": "Python 3 (ipykernel)",
   "language": "python",
   "name": "python3"
  },
  "language_info": {
   "codemirror_mode": {
    "name": "ipython",
    "version": 3
   },
   "file_extension": ".py",
   "mimetype": "text/x-python",
   "name": "python",
   "nbconvert_exporter": "python",
   "pygments_lexer": "ipython3",
   "version": "3.9.12"
  }
 },
 "nbformat": 4,
 "nbformat_minor": 5
}
